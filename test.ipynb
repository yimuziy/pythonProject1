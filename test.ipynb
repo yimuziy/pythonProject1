{
 "cells": [
  {
   "cell_type": "code",
   "execution_count": 4,
   "metadata": {
    "collapsed": true
   },
   "outputs": [
    {
     "name": "stdout",
     "output_type": "stream",
     "text": [
      "\t121111\n",
      "\n",
      "1222222\t\n"
     ]
    }
   ],
   "source": [
    "print('\\t121111')\n",
    "print('\\n1222222\\t')\n"
   ]
  }
 ],
 "metadata": {
  "kernelspec": {
   "name": "pycharm-b3768ef9",
   "language": "python",
   "display_name": "PyCharm (pythonProject1)"
  },
  "language_info": {
   "codemirror_mode": {
    "name": "ipython",
    "version": 2
   },
   "file_extension": ".py",
   "mimetype": "text/x-python",
   "name": "python",
   "nbconvert_exporter": "python",
   "pygments_lexer": "ipython2",
   "version": "2.7.6"
  }
 },
 "nbformat": 4,
 "nbformat_minor": 0
}